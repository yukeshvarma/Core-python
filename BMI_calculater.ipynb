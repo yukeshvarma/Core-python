{
  "nbformat": 4,
  "nbformat_minor": 0,
  "metadata": {
    "colab": {
      "provenance": []
    },
    "kernelspec": {
      "name": "python3",
      "display_name": "Python 3"
    },
    "language_info": {
      "name": "python"
    }
  },
  "cells": [
    {
      "cell_type": "code",
      "source": [
        "name = input('enter your name: ')\n",
        "weight = int(input('enter the weight in kg: '))\n",
        "height = int(input('enter the hight in cm: '))\n",
        "BMI=weight/((height/100)**2)#CONVERT INTO METERS AND THEN SQUARE IT\n",
        "\n",
        "if (BMI>0):\n",
        "   if (BMI < 18.5):\n",
        "      print('hi '+ name + ', your BMI is: ' + str(BMI)+ ' and you are UNDERWEIGHT')\n",
        "   elif (BMI <= 24.9):\n",
        "      print('hi '+ name + ', your BMI is: ' + str(BMI)+' and you are NORMAL')\n",
        "   elif (BMI <= 29.9):\n",
        "      print('hi '+ name + ', your BMI is: ' + str(BMI)+' and you are OVERWEIGHT')\n",
        "   else:\n",
        "      print('hi '+ name + ', your BMI is: ' + str(BMI)+' obesity')\n",
        "else:\n",
        "  print('enter a valid input')\n"
      ],
      "metadata": {
        "colab": {
          "base_uri": "https://localhost:8080/"
        },
        "id": "F6WzOgu5Lkj1",
        "outputId": "7108e0c3-4d37-4380-f767-0fb1ecb1f584"
      },
      "execution_count": 30,
      "outputs": [
        {
          "output_type": "stream",
          "name": "stdout",
          "text": [
            "enter your name: YUKESH\n",
            "enter the weight in kg: 135\n",
            "enter the hight in cm: 165\n",
            "hi YUKESH, your BMI is: 49.58677685950414 obesity\n"
          ]
        }
      ]
    },
    {
      "cell_type": "code",
      "source": [],
      "metadata": {
        "id": "x2oB7zTeXo7m"
      },
      "execution_count": null,
      "outputs": []
    }
  ]
}